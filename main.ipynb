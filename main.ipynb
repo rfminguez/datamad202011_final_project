{
 "cells": [
  {
   "cell_type": "code",
   "execution_count": 1,
   "metadata": {},
   "outputs": [],
   "source": [
    "import numpy as np\n",
    "import pandas as pd\n",
    "import matplotlib.pyplot as plt\n",
    "\n",
    "from sklearn.compose import ColumnTransformer\n",
    "from sklearn.preprocessing import StandardScaler\n",
    "from sklearn.preprocessing import OneHotEncoder\n",
    "from sklearn.pipeline import Pipeline\n",
    "\n",
    "from sklearn.model_selection import cross_val_score\n",
    "from sklearn.model_selection import RandomizedSearchCV\n",
    "\n",
    "from lightgbm import LGBMClassifier\n",
    "\n",
    "from sklearn.metrics import roc_auc_score\n",
    "from sklearn.metrics import precision_score\n"
   ]
  },
  {
   "cell_type": "markdown",
   "metadata": {},
   "source": [
    "# Cargar los datos\n",
    "Los CSV vienen sin cabecera, así que es necesario añadir los nombres de las columnas."
   ]
  },
  {
   "cell_type": "code",
   "execution_count": 2,
   "metadata": {},
   "outputs": [
    {
     "data": {
      "text/html": [
       "<div>\n",
       "<style scoped>\n",
       "    .dataframe tbody tr th:only-of-type {\n",
       "        vertical-align: middle;\n",
       "    }\n",
       "\n",
       "    .dataframe tbody tr th {\n",
       "        vertical-align: top;\n",
       "    }\n",
       "\n",
       "    .dataframe thead th {\n",
       "        text-align: right;\n",
       "    }\n",
       "</style>\n",
       "<table border=\"1\" class=\"dataframe\">\n",
       "  <thead>\n",
       "    <tr style=\"text-align: right;\">\n",
       "      <th></th>\n",
       "      <th>duration</th>\n",
       "      <th>protocol_type</th>\n",
       "      <th>service</th>\n",
       "      <th>flag</th>\n",
       "      <th>src_bytes</th>\n",
       "      <th>dst_bytes</th>\n",
       "      <th>land</th>\n",
       "      <th>wrong_fragment</th>\n",
       "      <th>urgent</th>\n",
       "      <th>hot</th>\n",
       "      <th>...</th>\n",
       "      <th>dst_host_same_srv_rate</th>\n",
       "      <th>dst_host_diff_srv_rate</th>\n",
       "      <th>dst_host_same_src_port_rate</th>\n",
       "      <th>dst_host_srv_diff_host_rate</th>\n",
       "      <th>dst_host_serror_rate</th>\n",
       "      <th>dst_host_srv_serror_rate</th>\n",
       "      <th>dst_host_rerror_rate</th>\n",
       "      <th>dst_host_srv_rerror_rate</th>\n",
       "      <th>TARGET</th>\n",
       "      <th>labels</th>\n",
       "    </tr>\n",
       "  </thead>\n",
       "  <tbody>\n",
       "    <tr>\n",
       "      <th>0</th>\n",
       "      <td>0</td>\n",
       "      <td>tcp</td>\n",
       "      <td>ftp_data</td>\n",
       "      <td>SF</td>\n",
       "      <td>491</td>\n",
       "      <td>0</td>\n",
       "      <td>0</td>\n",
       "      <td>0</td>\n",
       "      <td>0</td>\n",
       "      <td>0</td>\n",
       "      <td>...</td>\n",
       "      <td>0.17</td>\n",
       "      <td>0.03</td>\n",
       "      <td>0.17</td>\n",
       "      <td>0.00</td>\n",
       "      <td>0.00</td>\n",
       "      <td>0.00</td>\n",
       "      <td>0.05</td>\n",
       "      <td>0.00</td>\n",
       "      <td>normal</td>\n",
       "      <td>20</td>\n",
       "    </tr>\n",
       "    <tr>\n",
       "      <th>1</th>\n",
       "      <td>0</td>\n",
       "      <td>udp</td>\n",
       "      <td>other</td>\n",
       "      <td>SF</td>\n",
       "      <td>146</td>\n",
       "      <td>0</td>\n",
       "      <td>0</td>\n",
       "      <td>0</td>\n",
       "      <td>0</td>\n",
       "      <td>0</td>\n",
       "      <td>...</td>\n",
       "      <td>0.00</td>\n",
       "      <td>0.60</td>\n",
       "      <td>0.88</td>\n",
       "      <td>0.00</td>\n",
       "      <td>0.00</td>\n",
       "      <td>0.00</td>\n",
       "      <td>0.00</td>\n",
       "      <td>0.00</td>\n",
       "      <td>normal</td>\n",
       "      <td>15</td>\n",
       "    </tr>\n",
       "    <tr>\n",
       "      <th>2</th>\n",
       "      <td>0</td>\n",
       "      <td>tcp</td>\n",
       "      <td>private</td>\n",
       "      <td>S0</td>\n",
       "      <td>0</td>\n",
       "      <td>0</td>\n",
       "      <td>0</td>\n",
       "      <td>0</td>\n",
       "      <td>0</td>\n",
       "      <td>0</td>\n",
       "      <td>...</td>\n",
       "      <td>0.10</td>\n",
       "      <td>0.05</td>\n",
       "      <td>0.00</td>\n",
       "      <td>0.00</td>\n",
       "      <td>1.00</td>\n",
       "      <td>1.00</td>\n",
       "      <td>0.00</td>\n",
       "      <td>0.00</td>\n",
       "      <td>neptune</td>\n",
       "      <td>19</td>\n",
       "    </tr>\n",
       "    <tr>\n",
       "      <th>3</th>\n",
       "      <td>0</td>\n",
       "      <td>tcp</td>\n",
       "      <td>http</td>\n",
       "      <td>SF</td>\n",
       "      <td>232</td>\n",
       "      <td>8153</td>\n",
       "      <td>0</td>\n",
       "      <td>0</td>\n",
       "      <td>0</td>\n",
       "      <td>0</td>\n",
       "      <td>...</td>\n",
       "      <td>1.00</td>\n",
       "      <td>0.00</td>\n",
       "      <td>0.03</td>\n",
       "      <td>0.04</td>\n",
       "      <td>0.03</td>\n",
       "      <td>0.01</td>\n",
       "      <td>0.00</td>\n",
       "      <td>0.01</td>\n",
       "      <td>normal</td>\n",
       "      <td>21</td>\n",
       "    </tr>\n",
       "    <tr>\n",
       "      <th>4</th>\n",
       "      <td>0</td>\n",
       "      <td>tcp</td>\n",
       "      <td>http</td>\n",
       "      <td>SF</td>\n",
       "      <td>199</td>\n",
       "      <td>420</td>\n",
       "      <td>0</td>\n",
       "      <td>0</td>\n",
       "      <td>0</td>\n",
       "      <td>0</td>\n",
       "      <td>...</td>\n",
       "      <td>1.00</td>\n",
       "      <td>0.00</td>\n",
       "      <td>0.00</td>\n",
       "      <td>0.00</td>\n",
       "      <td>0.00</td>\n",
       "      <td>0.00</td>\n",
       "      <td>0.00</td>\n",
       "      <td>0.00</td>\n",
       "      <td>normal</td>\n",
       "      <td>21</td>\n",
       "    </tr>\n",
       "  </tbody>\n",
       "</table>\n",
       "<p>5 rows × 43 columns</p>\n",
       "</div>"
      ],
      "text/plain": [
       "   duration protocol_type   service flag  src_bytes  dst_bytes  land  \\\n",
       "0         0           tcp  ftp_data   SF        491          0     0   \n",
       "1         0           udp     other   SF        146          0     0   \n",
       "2         0           tcp   private   S0          0          0     0   \n",
       "3         0           tcp      http   SF        232       8153     0   \n",
       "4         0           tcp      http   SF        199        420     0   \n",
       "\n",
       "   wrong_fragment  urgent  hot  ...  dst_host_same_srv_rate  \\\n",
       "0               0       0    0  ...                    0.17   \n",
       "1               0       0    0  ...                    0.00   \n",
       "2               0       0    0  ...                    0.10   \n",
       "3               0       0    0  ...                    1.00   \n",
       "4               0       0    0  ...                    1.00   \n",
       "\n",
       "   dst_host_diff_srv_rate  dst_host_same_src_port_rate  \\\n",
       "0                    0.03                         0.17   \n",
       "1                    0.60                         0.88   \n",
       "2                    0.05                         0.00   \n",
       "3                    0.00                         0.03   \n",
       "4                    0.00                         0.00   \n",
       "\n",
       "   dst_host_srv_diff_host_rate  dst_host_serror_rate  \\\n",
       "0                         0.00                  0.00   \n",
       "1                         0.00                  0.00   \n",
       "2                         0.00                  1.00   \n",
       "3                         0.04                  0.03   \n",
       "4                         0.00                  0.00   \n",
       "\n",
       "   dst_host_srv_serror_rate  dst_host_rerror_rate  dst_host_srv_rerror_rate  \\\n",
       "0                      0.00                  0.05                      0.00   \n",
       "1                      0.00                  0.00                      0.00   \n",
       "2                      1.00                  0.00                      0.00   \n",
       "3                      0.01                  0.00                      0.01   \n",
       "4                      0.00                  0.00                      0.00   \n",
       "\n",
       "    TARGET  labels  \n",
       "0   normal      20  \n",
       "1   normal      15  \n",
       "2  neptune      19  \n",
       "3   normal      21  \n",
       "4   normal      21  \n",
       "\n",
       "[5 rows x 43 columns]"
      ]
     },
     "execution_count": 2,
     "metadata": {},
     "output_type": "execute_result"
    }
   ],
   "source": [
    "large_training_file = \"data/KDDTrain+.txt\"\n",
    "small_training_file = \"data/KDDTrain+_20Percent.txt\"\n",
    "\n",
    "df = pd.read_csv(large_training_file, header=None)\n",
    "\n",
    "# Las columnas según la documentacion son estas:\n",
    "col_names = [\"duration\",\"protocol_type\",\"service\",\"flag\",\"src_bytes\",\"dst_bytes\",\"land\",\"wrong_fragment\",\"urgent\",\"hot\",\"num_failed_logins\",\"logged_in\",\"num_compromised\",\"root_shell\",\"su_attempted\",\"num_root\",\"num_file_creations\",\"num_shells\",\"num_access_files\",\"num_outbound_cmds\",\"is_host_login\",\"is_guest_login\",\"count\",\"srv_count\",\"serror_rate\",\"srv_serror_rate\",\"rerror_rate\",\"srv_rerror_rate\",\"same_srv_rate\",\"diff_srv_rate\",\"srv_diff_host_rate\",\"dst_host_count\",\"dst_host_srv_count\",\"dst_host_same_srv_rate\",\"dst_host_diff_srv_rate\",\"dst_host_same_src_port_rate\",\"dst_host_srv_diff_host_rate\",\"dst_host_serror_rate\",\"dst_host_srv_serror_rate\",\"dst_host_rerror_rate\",\"dst_host_srv_rerror_rate\",\"TARGET\",\"labels\"]\n",
    "\n",
    "# El target (lo que queremos predecir) es este:\n",
    "target = \"TARGET\"\n",
    "\n",
    "df.columns = col_names\n",
    "\n",
    "df.head()"
   ]
  },
  {
   "cell_type": "markdown",
   "metadata": {},
   "source": [
    "## Separar Features de Target"
   ]
  },
  {
   "cell_type": "code",
   "execution_count": 3,
   "metadata": {},
   "outputs": [
    {
     "data": {
      "text/html": [
       "<div>\n",
       "<style scoped>\n",
       "    .dataframe tbody tr th:only-of-type {\n",
       "        vertical-align: middle;\n",
       "    }\n",
       "\n",
       "    .dataframe tbody tr th {\n",
       "        vertical-align: top;\n",
       "    }\n",
       "\n",
       "    .dataframe thead th {\n",
       "        text-align: right;\n",
       "    }\n",
       "</style>\n",
       "<table border=\"1\" class=\"dataframe\">\n",
       "  <thead>\n",
       "    <tr style=\"text-align: right;\">\n",
       "      <th></th>\n",
       "      <th>duration</th>\n",
       "      <th>protocol_type</th>\n",
       "      <th>service</th>\n",
       "      <th>flag</th>\n",
       "      <th>src_bytes</th>\n",
       "      <th>dst_bytes</th>\n",
       "      <th>land</th>\n",
       "      <th>wrong_fragment</th>\n",
       "      <th>urgent</th>\n",
       "      <th>hot</th>\n",
       "      <th>...</th>\n",
       "      <th>dst_host_srv_count</th>\n",
       "      <th>dst_host_same_srv_rate</th>\n",
       "      <th>dst_host_diff_srv_rate</th>\n",
       "      <th>dst_host_same_src_port_rate</th>\n",
       "      <th>dst_host_srv_diff_host_rate</th>\n",
       "      <th>dst_host_serror_rate</th>\n",
       "      <th>dst_host_srv_serror_rate</th>\n",
       "      <th>dst_host_rerror_rate</th>\n",
       "      <th>dst_host_srv_rerror_rate</th>\n",
       "      <th>labels</th>\n",
       "    </tr>\n",
       "  </thead>\n",
       "  <tbody>\n",
       "    <tr>\n",
       "      <th>0</th>\n",
       "      <td>0</td>\n",
       "      <td>tcp</td>\n",
       "      <td>ftp_data</td>\n",
       "      <td>SF</td>\n",
       "      <td>491</td>\n",
       "      <td>0</td>\n",
       "      <td>0</td>\n",
       "      <td>0</td>\n",
       "      <td>0</td>\n",
       "      <td>0</td>\n",
       "      <td>...</td>\n",
       "      <td>25</td>\n",
       "      <td>0.17</td>\n",
       "      <td>0.03</td>\n",
       "      <td>0.17</td>\n",
       "      <td>0.00</td>\n",
       "      <td>0.00</td>\n",
       "      <td>0.00</td>\n",
       "      <td>0.05</td>\n",
       "      <td>0.00</td>\n",
       "      <td>20</td>\n",
       "    </tr>\n",
       "    <tr>\n",
       "      <th>1</th>\n",
       "      <td>0</td>\n",
       "      <td>udp</td>\n",
       "      <td>other</td>\n",
       "      <td>SF</td>\n",
       "      <td>146</td>\n",
       "      <td>0</td>\n",
       "      <td>0</td>\n",
       "      <td>0</td>\n",
       "      <td>0</td>\n",
       "      <td>0</td>\n",
       "      <td>...</td>\n",
       "      <td>1</td>\n",
       "      <td>0.00</td>\n",
       "      <td>0.60</td>\n",
       "      <td>0.88</td>\n",
       "      <td>0.00</td>\n",
       "      <td>0.00</td>\n",
       "      <td>0.00</td>\n",
       "      <td>0.00</td>\n",
       "      <td>0.00</td>\n",
       "      <td>15</td>\n",
       "    </tr>\n",
       "    <tr>\n",
       "      <th>2</th>\n",
       "      <td>0</td>\n",
       "      <td>tcp</td>\n",
       "      <td>private</td>\n",
       "      <td>S0</td>\n",
       "      <td>0</td>\n",
       "      <td>0</td>\n",
       "      <td>0</td>\n",
       "      <td>0</td>\n",
       "      <td>0</td>\n",
       "      <td>0</td>\n",
       "      <td>...</td>\n",
       "      <td>26</td>\n",
       "      <td>0.10</td>\n",
       "      <td>0.05</td>\n",
       "      <td>0.00</td>\n",
       "      <td>0.00</td>\n",
       "      <td>1.00</td>\n",
       "      <td>1.00</td>\n",
       "      <td>0.00</td>\n",
       "      <td>0.00</td>\n",
       "      <td>19</td>\n",
       "    </tr>\n",
       "    <tr>\n",
       "      <th>3</th>\n",
       "      <td>0</td>\n",
       "      <td>tcp</td>\n",
       "      <td>http</td>\n",
       "      <td>SF</td>\n",
       "      <td>232</td>\n",
       "      <td>8153</td>\n",
       "      <td>0</td>\n",
       "      <td>0</td>\n",
       "      <td>0</td>\n",
       "      <td>0</td>\n",
       "      <td>...</td>\n",
       "      <td>255</td>\n",
       "      <td>1.00</td>\n",
       "      <td>0.00</td>\n",
       "      <td>0.03</td>\n",
       "      <td>0.04</td>\n",
       "      <td>0.03</td>\n",
       "      <td>0.01</td>\n",
       "      <td>0.00</td>\n",
       "      <td>0.01</td>\n",
       "      <td>21</td>\n",
       "    </tr>\n",
       "    <tr>\n",
       "      <th>4</th>\n",
       "      <td>0</td>\n",
       "      <td>tcp</td>\n",
       "      <td>http</td>\n",
       "      <td>SF</td>\n",
       "      <td>199</td>\n",
       "      <td>420</td>\n",
       "      <td>0</td>\n",
       "      <td>0</td>\n",
       "      <td>0</td>\n",
       "      <td>0</td>\n",
       "      <td>...</td>\n",
       "      <td>255</td>\n",
       "      <td>1.00</td>\n",
       "      <td>0.00</td>\n",
       "      <td>0.00</td>\n",
       "      <td>0.00</td>\n",
       "      <td>0.00</td>\n",
       "      <td>0.00</td>\n",
       "      <td>0.00</td>\n",
       "      <td>0.00</td>\n",
       "      <td>21</td>\n",
       "    </tr>\n",
       "  </tbody>\n",
       "</table>\n",
       "<p>5 rows × 42 columns</p>\n",
       "</div>"
      ],
      "text/plain": [
       "   duration protocol_type   service flag  src_bytes  dst_bytes  land  \\\n",
       "0         0           tcp  ftp_data   SF        491          0     0   \n",
       "1         0           udp     other   SF        146          0     0   \n",
       "2         0           tcp   private   S0          0          0     0   \n",
       "3         0           tcp      http   SF        232       8153     0   \n",
       "4         0           tcp      http   SF        199        420     0   \n",
       "\n",
       "   wrong_fragment  urgent  hot  ...  dst_host_srv_count  \\\n",
       "0               0       0    0  ...                  25   \n",
       "1               0       0    0  ...                   1   \n",
       "2               0       0    0  ...                  26   \n",
       "3               0       0    0  ...                 255   \n",
       "4               0       0    0  ...                 255   \n",
       "\n",
       "   dst_host_same_srv_rate  dst_host_diff_srv_rate  \\\n",
       "0                    0.17                    0.03   \n",
       "1                    0.00                    0.60   \n",
       "2                    0.10                    0.05   \n",
       "3                    1.00                    0.00   \n",
       "4                    1.00                    0.00   \n",
       "\n",
       "   dst_host_same_src_port_rate  dst_host_srv_diff_host_rate  \\\n",
       "0                         0.17                         0.00   \n",
       "1                         0.88                         0.00   \n",
       "2                         0.00                         0.00   \n",
       "3                         0.03                         0.04   \n",
       "4                         0.00                         0.00   \n",
       "\n",
       "   dst_host_serror_rate  dst_host_srv_serror_rate  dst_host_rerror_rate  \\\n",
       "0                  0.00                      0.00                  0.05   \n",
       "1                  0.00                      0.00                  0.00   \n",
       "2                  1.00                      1.00                  0.00   \n",
       "3                  0.03                      0.01                  0.00   \n",
       "4                  0.00                      0.00                  0.00   \n",
       "\n",
       "   dst_host_srv_rerror_rate  labels  \n",
       "0                      0.00      20  \n",
       "1                      0.00      15  \n",
       "2                      0.00      19  \n",
       "3                      0.01      21  \n",
       "4                      0.00      21  \n",
       "\n",
       "[5 rows x 42 columns]"
      ]
     },
     "metadata": {},
     "output_type": "display_data"
    },
    {
     "name": "stdout",
     "output_type": "stream",
     "text": [
      "(125973, 42)\n"
     ]
    },
    {
     "data": {
      "text/plain": [
       "0     normal\n",
       "1     normal\n",
       "2    neptune\n",
       "3     normal\n",
       "4     normal\n",
       "Name: TARGET, dtype: object"
      ]
     },
     "metadata": {},
     "output_type": "display_data"
    },
    {
     "name": "stdout",
     "output_type": "stream",
     "text": [
      "(125973,)\n"
     ]
    }
   ],
   "source": [
    "X = df[col_names].drop(target, axis=1)\n",
    "y = df[target]\n",
    "\n",
    "display(X.head())\n",
    "print(X.shape)\n",
    "\n",
    "display(y.head())\n",
    "print(y.shape)"
   ]
  },
  {
   "cell_type": "code",
   "execution_count": 4,
   "metadata": {},
   "outputs": [
    {
     "data": {
      "text/plain": [
       "array(['normal', 'neptune', 'warezclient', 'ipsweep', 'portsweep',\n",
       "       'teardrop', 'nmap', 'satan', 'smurf', 'pod', 'back',\n",
       "       'guess_passwd', 'ftp_write', 'multihop', 'rootkit',\n",
       "       'buffer_overflow', 'imap', 'warezmaster', 'phf', 'land',\n",
       "       'loadmodule', 'spy', 'perl'], dtype=object)"
      ]
     },
     "execution_count": 4,
     "metadata": {},
     "output_type": "execute_result"
    }
   ],
   "source": [
    "y.unique()"
   ]
  },
  {
   "cell_type": "markdown",
   "metadata": {},
   "source": [
    "# Analisis preliminar\n",
    "## ¿Hay nulos?\n",
    "Buscar y reemplazar valores nulos.\n",
    "\n",
    "Como se ve, con *.info()* **no hay valores nulos**."
   ]
  },
  {
   "cell_type": "code",
   "execution_count": 5,
   "metadata": {},
   "outputs": [
    {
     "name": "stdout",
     "output_type": "stream",
     "text": [
      "<class 'pandas.core.frame.DataFrame'>\n",
      "RangeIndex: 125973 entries, 0 to 125972\n",
      "Data columns (total 42 columns):\n",
      " #   Column                       Non-Null Count   Dtype  \n",
      "---  ------                       --------------   -----  \n",
      " 0   duration                     125973 non-null  int64  \n",
      " 1   protocol_type                125973 non-null  object \n",
      " 2   service                      125973 non-null  object \n",
      " 3   flag                         125973 non-null  object \n",
      " 4   src_bytes                    125973 non-null  int64  \n",
      " 5   dst_bytes                    125973 non-null  int64  \n",
      " 6   land                         125973 non-null  int64  \n",
      " 7   wrong_fragment               125973 non-null  int64  \n",
      " 8   urgent                       125973 non-null  int64  \n",
      " 9   hot                          125973 non-null  int64  \n",
      " 10  num_failed_logins            125973 non-null  int64  \n",
      " 11  logged_in                    125973 non-null  int64  \n",
      " 12  num_compromised              125973 non-null  int64  \n",
      " 13  root_shell                   125973 non-null  int64  \n",
      " 14  su_attempted                 125973 non-null  int64  \n",
      " 15  num_root                     125973 non-null  int64  \n",
      " 16  num_file_creations           125973 non-null  int64  \n",
      " 17  num_shells                   125973 non-null  int64  \n",
      " 18  num_access_files             125973 non-null  int64  \n",
      " 19  num_outbound_cmds            125973 non-null  int64  \n",
      " 20  is_host_login                125973 non-null  int64  \n",
      " 21  is_guest_login               125973 non-null  int64  \n",
      " 22  count                        125973 non-null  int64  \n",
      " 23  srv_count                    125973 non-null  int64  \n",
      " 24  serror_rate                  125973 non-null  float64\n",
      " 25  srv_serror_rate              125973 non-null  float64\n",
      " 26  rerror_rate                  125973 non-null  float64\n",
      " 27  srv_rerror_rate              125973 non-null  float64\n",
      " 28  same_srv_rate                125973 non-null  float64\n",
      " 29  diff_srv_rate                125973 non-null  float64\n",
      " 30  srv_diff_host_rate           125973 non-null  float64\n",
      " 31  dst_host_count               125973 non-null  int64  \n",
      " 32  dst_host_srv_count           125973 non-null  int64  \n",
      " 33  dst_host_same_srv_rate       125973 non-null  float64\n",
      " 34  dst_host_diff_srv_rate       125973 non-null  float64\n",
      " 35  dst_host_same_src_port_rate  125973 non-null  float64\n",
      " 36  dst_host_srv_diff_host_rate  125973 non-null  float64\n",
      " 37  dst_host_serror_rate         125973 non-null  float64\n",
      " 38  dst_host_srv_serror_rate     125973 non-null  float64\n",
      " 39  dst_host_rerror_rate         125973 non-null  float64\n",
      " 40  dst_host_srv_rerror_rate     125973 non-null  float64\n",
      " 41  labels                       125973 non-null  int64  \n",
      "dtypes: float64(15), int64(24), object(3)\n",
      "memory usage: 40.4+ MB\n"
     ]
    }
   ],
   "source": [
    "X.info()"
   ]
  },
  {
   "cell_type": "code",
   "execution_count": 6,
   "metadata": {},
   "outputs": [],
   "source": [
    "# Visualización de los datos\n",
    "#h = 30\n",
    "#w = 20\n",
    "#X.hist(bins=50, figsize=(h, w))\n",
    "#plt.show();"
   ]
  },
  {
   "cell_type": "markdown",
   "metadata": {},
   "source": [
    "## ¿Esta balanceado el dataset?\n",
    "No está balanceado: en el dataset grande \"spy\" solo sale dos veces, mientras que \"netpune\" sale más de 40000 y el tráfico normal más de 67000."
   ]
  },
  {
   "cell_type": "code",
   "execution_count": 7,
   "metadata": {},
   "outputs": [
    {
     "data": {
      "text/plain": [
       "normal             67343\n",
       "neptune            41214\n",
       "satan               3633\n",
       "ipsweep             3599\n",
       "portsweep           2931\n",
       "smurf               2646\n",
       "nmap                1493\n",
       "back                 956\n",
       "teardrop             892\n",
       "warezclient          890\n",
       "pod                  201\n",
       "guess_passwd          53\n",
       "buffer_overflow       30\n",
       "warezmaster           20\n",
       "land                  18\n",
       "imap                  11\n",
       "rootkit               10\n",
       "loadmodule             9\n",
       "ftp_write              8\n",
       "multihop               7\n",
       "phf                    4\n",
       "perl                   3\n",
       "spy                    2\n",
       "Name: TARGET, dtype: int64"
      ]
     },
     "execution_count": 7,
     "metadata": {},
     "output_type": "execute_result"
    }
   ],
   "source": [
    "y.value_counts()"
   ]
  },
  {
   "cell_type": "markdown",
   "metadata": {},
   "source": [
    "Por eso voy a **normalizar** los \"target\" agrupándo según el tipo ataque que es (i.e. 'spy': 'R2L'; 'loadmodule': 'U2R'; 'mailbomb': 'DoS'; etc.)"
   ]
  },
  {
   "cell_type": "markdown",
   "metadata": {},
   "source": [
    "Si comparamos tráfico normal vs tráfico que indica un ataque vemos que el dataset está más balanceado:"
   ]
  },
  {
   "cell_type": "code",
   "execution_count": 8,
   "metadata": {},
   "outputs": [
    {
     "name": "stdout",
     "output_type": "stream",
     "text": [
      "Trafico normal: 67343 vs Trafico no normal: 58630\n"
     ]
    }
   ],
   "source": [
    "filter_normal_trafic = y==\"normal\"\n",
    "\n",
    "print(f\"Trafico normal: {y[filter_normal_trafic].count()} vs Trafico no normal: {y[~filter_normal_trafic].count()}\")"
   ]
  },
  {
   "cell_type": "code",
   "execution_count": 9,
   "metadata": {},
   "outputs": [
    {
     "data": {
      "image/png": "[encoded data removed]",
      "text/plain": [
       "<Figure size 432x288 with 1 Axes>"
      ]
     },
     "metadata": {
      "needs_background": "light"
     },
     "output_type": "display_data"
    }
   ],
   "source": [
    "plt.bar(['Trafico Normal', 'Trafico Anormal'], [y[filter_normal_trafic].count(), y[~filter_normal_trafic].count()])\n",
    "plt.show();"
   ]
  },
  {
   "cell_type": "markdown",
   "metadata": {},
   "source": [
    "### Normalizo los tipos de ataque del dataset\n",
    "Estos datos los saco de la documentación del dataset"
   ]
  },
  {
   "cell_type": "code",
   "execution_count": 10,
   "metadata": {},
   "outputs": [
    {
     "name": "stdout",
     "output_type": "stream",
     "text": [
      "(125973,)\n",
      "(125973,)\n"
     ]
    },
    {
     "data": {
      "text/plain": [
       "0     normal\n",
       "1     normal\n",
       "2    neptune\n",
       "3     normal\n",
       "4     normal\n",
       "Name: TARGET, dtype: object"
      ]
     },
     "metadata": {},
     "output_type": "display_data"
    },
    {
     "name": "stdout",
     "output_type": "stream",
     "text": [
      "---\n"
     ]
    },
    {
     "data": {
      "text/plain": [
       "0    normal\n",
       "1    normal\n",
       "2       DoS\n",
       "3    normal\n",
       "4    normal\n",
       "dtype: object"
      ]
     },
     "metadata": {},
     "output_type": "display_data"
    }
   ],
   "source": [
    "attack_dict = {'normal': 'normal', \n",
    "               \n",
    "               'back': 'DoS',\n",
    "               'land': 'DoS',\n",
    "               'neptune': 'DoS',\n",
    "               'pod': 'DoS',\n",
    "               'smurf': 'DoS',\n",
    "               'teardrop': 'DoS',\n",
    "               'mailbomb': 'DoS',\n",
    "               'apache2': 'DoS',\n",
    "               'processtable': 'DoS',\n",
    "               'udpstorm': 'DoS',\n",
    "               \n",
    "               'ipsweep': 'Probe',\n",
    "               'nmap': 'Probe',\n",
    "               'portsweep': 'Probe',\n",
    "               'satan': 'Probe',\n",
    "               'mscan': 'Probe',\n",
    "               'saint': 'Probe',\n",
    "               \n",
    "               'ftp_write': 'R2L',\n",
    "               'guess_passwd': 'R2L',\n",
    "               'imap': 'R2L',\n",
    "               'multihop': 'R2L',\n",
    "               'phf': 'R2L',\n",
    "               'spy': 'R2L',\n",
    "               'warezclient': 'R2L',\n",
    "               'warezmaster': 'R2L',\n",
    "               'sendmail': 'R2L',\n",
    "               'named': 'R2L',\n",
    "               'snmpgetattack': 'R2L',\n",
    "               'snmpguess': 'R2L',\n",
    "               'xlock': 'R2L',\n",
    "               'xsnoop': 'R2L',\n",
    "               'worm': 'R2L',\n",
    "               \n",
    "               'buffer_overflow': 'U2R',\n",
    "               'loadmodule': 'U2R',\n",
    "               'perl': 'U2R',\n",
    "               'rootkit': 'U2R',\n",
    "               'httptunnel': 'U2R',\n",
    "               'ps': 'U2R',\n",
    "               'sqlattack': 'U2R',\n",
    "               'xterm': 'U2R'\n",
    "              }\n",
    "\n",
    "y_normalized = pd.Series([attack_dict[t] for t in y])\n",
    "\n",
    "print(y.shape)\n",
    "print(y_normalized.shape)\n",
    "\n",
    "display(y.head())\n",
    "print(\"---\")\n",
    "display(y_normalized.head())"
   ]
  },
  {
   "cell_type": "markdown",
   "metadata": {},
   "source": [
    "### Dentro del dataset, ¿están balanceados los ataques en el dataset?\n",
    "El dataset lo divido en tráfico normal y anómalo. Dentro del tráfico anómalo hay una serie de subcategorías. ¿Están balanceadas estas subcategorías?\n",
    "\n",
    "Por desgracia no lo está como puede verse a continuación. Está muy descompensado hacia el tipo *DoS*."
   ]
  },
  {
   "cell_type": "code",
   "execution_count": 11,
   "metadata": {},
   "outputs": [
    {
     "data": {
      "text/plain": [
       "DoS      45927\n",
       "Probe    11656\n",
       "R2L        995\n",
       "U2R         52\n",
       "dtype: int64"
      ]
     },
     "execution_count": 11,
     "metadata": {},
     "output_type": "execute_result"
    }
   ],
   "source": [
    "y_normalized[~filter_normal_trafic].value_counts()"
   ]
  },
  {
   "cell_type": "code",
   "execution_count": 12,
   "metadata": {},
   "outputs": [
    {
     "data": {
      "image/png": "[encoded data removed]",
      "text/plain": [
       "<Figure size 432x288 with 1 Axes>"
      ]
     },
     "metadata": {
      "needs_background": "light"
     },
     "output_type": "display_data"
    }
   ],
   "source": [
    "y_normalized[~filter_normal_trafic].hist()\n",
    "plt.show()"
   ]
  },
  {
   "cell_type": "markdown",
   "metadata": {},
   "source": [
    "## Variables Numéricas y Categóricas"
   ]
  },
  {
   "cell_type": "code",
   "execution_count": 13,
   "metadata": {},
   "outputs": [],
   "source": [
    "# Columnas con valores numericos\n",
    "X_numeric = X.select_dtypes(include=np.number)\n",
    "\n",
    "# Columnas con valores categoricos\n",
    "X_categoric = X.select_dtypes(exclude=np.number)"
   ]
  },
  {
   "cell_type": "markdown",
   "metadata": {},
   "source": [
    "### Posibles valores en datos categóricos"
   ]
  },
  {
   "cell_type": "code",
   "execution_count": 14,
   "metadata": {},
   "outputs": [
    {
     "name": "stdout",
     "output_type": "stream",
     "text": [
      "La columna 'protocol_type' tiene estos valores:\n",
      "['tcp' 'udp' 'icmp']\n",
      "\n",
      "La columna 'service' tiene estos valores:\n",
      "['ftp_data' 'other' 'private' 'http' 'remote_job' 'name' 'netbios_ns'\n",
      " 'eco_i' 'mtp' 'telnet' 'finger' 'domain_u' 'supdup' 'uucp_path' 'Z39_50'\n",
      " 'smtp' 'csnet_ns' 'uucp' 'netbios_dgm' 'urp_i' 'auth' 'domain' 'ftp'\n",
      " 'bgp' 'ldap' 'ecr_i' 'gopher' 'vmnet' 'systat' 'http_443' 'efs' 'whois'\n",
      " 'imap4' 'iso_tsap' 'echo' 'klogin' 'link' 'sunrpc' 'login' 'kshell'\n",
      " 'sql_net' 'time' 'hostnames' 'exec' 'ntp_u' 'discard' 'nntp' 'courier'\n",
      " 'ctf' 'ssh' 'daytime' 'shell' 'netstat' 'pop_3' 'nnsp' 'IRC' 'pop_2'\n",
      " 'printer' 'tim_i' 'pm_dump' 'red_i' 'netbios_ssn' 'rje' 'X11' 'urh_i'\n",
      " 'http_8001' 'aol' 'http_2784' 'tftp_u' 'harvest']\n",
      "\n",
      "La columna 'flag' tiene estos valores:\n",
      "['SF' 'S0' 'REJ' 'RSTR' 'SH' 'RSTO' 'S1' 'RSTOS0' 'S3' 'S2' 'OTH']\n",
      "\n"
     ]
    }
   ],
   "source": [
    "for c in X_categoric.columns.to_list():\n",
    "    print(f\"La columna '{c}' tiene estos valores:\\n{X_categoric[c].unique()}\\n\")"
   ]
  },
  {
   "cell_type": "markdown",
   "metadata": {},
   "source": [
    "### Separo columnas categóricas de numéricas en dos variables"
   ]
  },
  {
   "cell_type": "code",
   "execution_count": 15,
   "metadata": {},
   "outputs": [],
   "source": [
    "numerical_features = X_numeric.columns.to_list()\n",
    "categorical_features = X_categoric.columns.to_list()"
   ]
  },
  {
   "cell_type": "code",
   "execution_count": 16,
   "metadata": {},
   "outputs": [
    {
     "data": {
      "text/plain": [
       "['duration',\n",
       " 'src_bytes',\n",
       " 'dst_bytes',\n",
       " 'land',\n",
       " 'wrong_fragment',\n",
       " 'urgent',\n",
       " 'hot',\n",
       " 'num_failed_logins',\n",
       " 'logged_in',\n",
       " 'num_compromised',\n",
       " 'root_shell',\n",
       " 'su_attempted',\n",
       " 'num_root',\n",
       " 'num_file_creations',\n",
       " 'num_shells',\n",
       " 'num_access_files',\n",
       " 'num_outbound_cmds',\n",
       " 'is_host_login',\n",
       " 'is_guest_login',\n",
       " 'count',\n",
       " 'srv_count',\n",
       " 'serror_rate',\n",
       " 'srv_serror_rate',\n",
       " 'rerror_rate',\n",
       " 'srv_rerror_rate',\n",
       " 'same_srv_rate',\n",
       " 'diff_srv_rate',\n",
       " 'srv_diff_host_rate',\n",
       " 'dst_host_count',\n",
       " 'dst_host_srv_count',\n",
       " 'dst_host_same_srv_rate',\n",
       " 'dst_host_diff_srv_rate',\n",
       " 'dst_host_same_src_port_rate',\n",
       " 'dst_host_srv_diff_host_rate',\n",
       " 'dst_host_serror_rate',\n",
       " 'dst_host_srv_serror_rate',\n",
       " 'dst_host_rerror_rate',\n",
       " 'dst_host_srv_rerror_rate',\n",
       " 'labels']"
      ]
     },
     "execution_count": 16,
     "metadata": {},
     "output_type": "execute_result"
    }
   ],
   "source": [
    "numerical_features"
   ]
  },
  {
   "cell_type": "code",
   "execution_count": 17,
   "metadata": {},
   "outputs": [
    {
     "data": {
      "text/plain": [
       "['protocol_type', 'service', 'flag']"
      ]
     },
     "execution_count": 17,
     "metadata": {},
     "output_type": "execute_result"
    }
   ],
   "source": [
    "categorical_features"
   ]
  },
  {
   "cell_type": "markdown",
   "metadata": {},
   "source": [
    "## ¿Buscar outliers?\n",
    "Utilizando la librería https://pyod.readthedocs.io/en/latest/ para hacer un análisis más complejo que símplemente usar cuartiles junto con histogramas, box-plots y scatter plots.\n",
    "\n",
    "Outliers son valores extremos. Tener outliers puede tener un impacto significativo en los resultados de un modelo de machine learning.\n",
    "\n",
    "Sin embargo, los outliers no tienen que ser malos de por sí y no se deberían descartar sin pensarlo antes. Pueden ser observaciones que no siguen el mismo patrón que el resto. Por ejemplo, buscar outliers en tráfico de red puede llevar a conclusiones interesantes, ¿por qué hay tráfico anómalo desde una de nuestras IPs a una red externa?\n",
    "\n",
    "Los outliers pueden clasificarse en dos tipos:\n",
    "- Univariate: valores extremos en solo una variable.\n",
    "- Multivariate: valores extremos combinando más de una variable.\n",
    "\n",
    "Voy a probar a la aproximación *Unsupervised Outlier Detection* ya que no dispongo de un set de datos con *labels* que me digan qué filas corresponden a *otuliers*. \n",
    "\n",
    "Voy a utilizar el algoritmo *ABOD* (*Angle-Based Outlier Detection*) ya que funciona bien para datos multidimensionales.\n",
    "[DUDA] ¿Usar LOCI en vez? Según la documentación es muy eficaz y proporciona un solo número como salida para cada punto\n"
   ]
  },
  {
   "cell_type": "markdown",
   "metadata": {},
   "source": [
    "```python\n",
    "import seaborn as sns\n",
    "\n",
    "from pyod.models.cblof import CBLOF\n",
    "```"
   ]
  },
  {
   "cell_type": "markdown",
   "metadata": {},
   "source": [
    "```python\n",
    "# Escalado con standar scaler antes de entrenar el algoritmo de CBLOF\n",
    "scaler = StandardScaler()\n",
    "X_scaled = scaler.fit_transform(X[numerical_features])\n",
    "```"
   ]
  },
  {
   "cell_type": "markdown",
   "metadata": {},
   "source": [
    "```python\n",
    "# Entrenar Clasificador CBLOF\n",
    "outliers_fraction = 0.01\n",
    "\n",
    "clf = CBLOF(contamination=outliers_fraction,check_estimator=False, random_state=0)\n",
    "\n",
    "clf.fit(X_scaled)\n",
    "#scores_pred = clf.decision_function(X_scaled) * -1\n",
    "y_pred = clf.predict(X_scaled)\n",
    "```"
   ]
  },
  {
   "cell_type": "markdown",
   "metadata": {},
   "source": [
    "```python\n",
    "n_inliers = len(y_pred) - np.count_nonzero(y_pred)\n",
    "n_outliers = np.count_nonzero(y_pred == 1)\n",
    "\n",
    "print(n_inliers)\n",
    "print(n_outliers)\n",
    "```"
   ]
  },
  {
   "cell_type": "markdown",
   "metadata": {},
   "source": [
    "```python\n",
    "X['outlier'] = y_pred.tolist()\n",
    "```"
   ]
  },
  {
   "cell_type": "markdown",
   "metadata": {},
   "source": [
    "```python\n",
    "X['outlier'].value_counts()\n",
    "```"
   ]
  },
  {
   "cell_type": "markdown",
   "metadata": {},
   "source": [
    "```python\n",
    "X.shape\n",
    "```"
   ]
  },
  {
   "cell_type": "markdown",
   "metadata": {},
   "source": [
    "```python\n",
    "X_aux = pd.concat([X, y], axis=1)\n",
    "X_aux.shape\n",
    "```"
   ]
  },
  {
   "cell_type": "markdown",
   "metadata": {},
   "source": [
    "```python\n",
    "is_outlier = X['outlier'] == 1\n",
    "\n",
    "X_aux = X_aux[~is_outlier]\n",
    "X_aux.drop('outlier', axis=1, inplace=True)\n",
    "```"
   ]
  },
  {
   "cell_type": "markdown",
   "metadata": {},
   "source": [
    "```python\n",
    "X_aux.shape\n",
    "```"
   ]
  },
  {
   "cell_type": "markdown",
   "metadata": {},
   "source": [
    "```python\n",
    "X = X_aux[col_names].drop(target, axis=1)\n",
    "y = X_aux[target]\n",
    "\n",
    "display(X.head())\n",
    "print(X.shape)\n",
    "\n",
    "display(y.head())\n",
    "print(y.shape)\n",
    "```"
   ]
  },
  {
   "cell_type": "markdown",
   "metadata": {},
   "source": [
    "```python\n",
    "# También toca normalizar y (para reducir el número de labels que hay según el diccionario de arriba)\n",
    "y_normalized = pd.Series([attack_dict[t] for t in y])\n",
    "```"
   ]
  },
  {
   "cell_type": "markdown",
   "metadata": {},
   "source": [
    "Como también hay que hablar de los fracasos, he intentado hacer una búsqueda de outliers como describo arriba y los resultados no han sido positivos:\n",
    "- **Sin eliminar outliers** los resultados son estos:\n",
    "    - La accuracy media de la validación es: 0.83\n",
    "    - La accuracy media con los datos de test es: 0.69\n",
    "\n",
    "- **Eliminando outliers** los resultados son estos:\n",
    "    - La accuracy media de la validación es: 0.65\n",
    "    - La accuracy media de los datos de test es: 0.67\n",
    "\n",
    "¿Estos resultados tienen sentido? En mi opinión sí, ya que al fin y al cabo lo que estamos haciendo es separar eventos clasificados como normales de los anómalos. Que un evento presente datos que están fuera del uso normal de la infraestructura puede ser un buen indicador de un ataque."
   ]
  },
  {
   "cell_type": "markdown",
   "metadata": {},
   "source": [
    "# Pasos para aplicar Machine Learning\n",
    "En resumen sigo un proceso típico de Machine Learning:\n",
    "- pasar datos categóricos a valores numéricos.\n",
    "- normalizar esos valores numéricos.\n",
    "- crear y entrenar algoritmos\n",
    "- predicciones (a.k.a. análisis de eventos en busca de posibles ataques)."
   ]
  },
  {
   "cell_type": "markdown",
   "metadata": {},
   "source": [
    "## Transformaciones\n",
    "Para automatizar esta tarea utilizo Column Transformer\n",
    "- Valores numéricos: les aplico Standard Scaler para normalizarlos.\n",
    "- Valores categóricos: les aplico One Hot encoder para transformarlos en valores numéricos."
   ]
  },
  {
   "cell_type": "code",
   "execution_count": 18,
   "metadata": {},
   "outputs": [],
   "source": [
    "preprocessor = ColumnTransformer(transformers=[('numerical', StandardScaler(), numerical_features),\n",
    "                                               ('categorical', OneHotEncoder(handle_unknown='ignore'), categorical_features)])"
   ]
  },
  {
   "cell_type": "code",
   "execution_count": 19,
   "metadata": {},
   "outputs": [
    {
     "data": {
      "text/plain": [
       "ColumnTransformer(transformers=[('numerical', StandardScaler(),\n",
       "                                 ['duration', 'src_bytes', 'dst_bytes', 'land',\n",
       "                                  'wrong_fragment', 'urgent', 'hot',\n",
       "                                  'num_failed_logins', 'logged_in',\n",
       "                                  'num_compromised', 'root_shell',\n",
       "                                  'su_attempted', 'num_root',\n",
       "                                  'num_file_creations', 'num_shells',\n",
       "                                  'num_access_files', 'num_outbound_cmds',\n",
       "                                  'is_host_login', 'is_guest_login', 'count',\n",
       "                                  'srv_count', 'serror_rate', 'srv_serror_rate',\n",
       "                                  'rerror_rate', 'srv_rerror_rate',\n",
       "                                  'same_srv_rate', 'diff_srv_rate',\n",
       "                                  'srv_diff_host_rate', 'dst_host_count',\n",
       "                                  'dst_host_srv_count', ...]),\n",
       "                                ('categorical',\n",
       "                                 OneHotEncoder(handle_unknown='ignore'),\n",
       "                                 ['protocol_type', 'service', 'flag'])])"
      ]
     },
     "execution_count": 19,
     "metadata": {},
     "output_type": "execute_result"
    }
   ],
   "source": [
    "preprocessor"
   ]
  },
  {
   "cell_type": "code",
   "execution_count": 20,
   "metadata": {},
   "outputs": [
    {
     "data": {
      "text/html": [
       "<div>\n",
       "<style scoped>\n",
       "    .dataframe tbody tr th:only-of-type {\n",
       "        vertical-align: middle;\n",
       "    }\n",
       "\n",
       "    .dataframe tbody tr th {\n",
       "        vertical-align: top;\n",
       "    }\n",
       "\n",
       "    .dataframe thead th {\n",
       "        text-align: right;\n",
       "    }\n",
       "</style>\n",
       "<table border=\"1\" class=\"dataframe\">\n",
       "  <thead>\n",
       "    <tr style=\"text-align: right;\">\n",
       "      <th></th>\n",
       "      <th>0</th>\n",
       "      <th>1</th>\n",
       "      <th>2</th>\n",
       "      <th>3</th>\n",
       "      <th>4</th>\n",
       "      <th>5</th>\n",
       "      <th>6</th>\n",
       "      <th>7</th>\n",
       "      <th>8</th>\n",
       "      <th>9</th>\n",
       "      <th>...</th>\n",
       "      <th>113</th>\n",
       "      <th>114</th>\n",
       "      <th>115</th>\n",
       "      <th>116</th>\n",
       "      <th>117</th>\n",
       "      <th>118</th>\n",
       "      <th>119</th>\n",
       "      <th>120</th>\n",
       "      <th>121</th>\n",
       "      <th>122</th>\n",
       "    </tr>\n",
       "  </thead>\n",
       "  <tbody>\n",
       "    <tr>\n",
       "      <th>0</th>\n",
       "      <td>-0.110249</td>\n",
       "      <td>-0.007679</td>\n",
       "      <td>-0.004919</td>\n",
       "      <td>-0.014089</td>\n",
       "      <td>-0.089486</td>\n",
       "      <td>-0.007736</td>\n",
       "      <td>-0.095076</td>\n",
       "      <td>-0.027023</td>\n",
       "      <td>-0.809262</td>\n",
       "      <td>-0.011664</td>\n",
       "      <td>...</td>\n",
       "      <td>0.0</td>\n",
       "      <td>0.0</td>\n",
       "      <td>0.0</td>\n",
       "      <td>0.0</td>\n",
       "      <td>0.0</td>\n",
       "      <td>0.0</td>\n",
       "      <td>0.0</td>\n",
       "      <td>0.0</td>\n",
       "      <td>1.0</td>\n",
       "      <td>0.0</td>\n",
       "    </tr>\n",
       "    <tr>\n",
       "      <th>1</th>\n",
       "      <td>-0.110249</td>\n",
       "      <td>-0.007737</td>\n",
       "      <td>-0.004919</td>\n",
       "      <td>-0.014089</td>\n",
       "      <td>-0.089486</td>\n",
       "      <td>-0.007736</td>\n",
       "      <td>-0.095076</td>\n",
       "      <td>-0.027023</td>\n",
       "      <td>-0.809262</td>\n",
       "      <td>-0.011664</td>\n",
       "      <td>...</td>\n",
       "      <td>0.0</td>\n",
       "      <td>0.0</td>\n",
       "      <td>0.0</td>\n",
       "      <td>0.0</td>\n",
       "      <td>0.0</td>\n",
       "      <td>0.0</td>\n",
       "      <td>0.0</td>\n",
       "      <td>0.0</td>\n",
       "      <td>1.0</td>\n",
       "      <td>0.0</td>\n",
       "    </tr>\n",
       "    <tr>\n",
       "      <th>2</th>\n",
       "      <td>-0.110249</td>\n",
       "      <td>-0.007762</td>\n",
       "      <td>-0.004919</td>\n",
       "      <td>-0.014089</td>\n",
       "      <td>-0.089486</td>\n",
       "      <td>-0.007736</td>\n",
       "      <td>-0.095076</td>\n",
       "      <td>-0.027023</td>\n",
       "      <td>-0.809262</td>\n",
       "      <td>-0.011664</td>\n",
       "      <td>...</td>\n",
       "      <td>0.0</td>\n",
       "      <td>0.0</td>\n",
       "      <td>0.0</td>\n",
       "      <td>0.0</td>\n",
       "      <td>1.0</td>\n",
       "      <td>0.0</td>\n",
       "      <td>0.0</td>\n",
       "      <td>0.0</td>\n",
       "      <td>0.0</td>\n",
       "      <td>0.0</td>\n",
       "    </tr>\n",
       "    <tr>\n",
       "      <th>3</th>\n",
       "      <td>-0.110249</td>\n",
       "      <td>-0.007723</td>\n",
       "      <td>-0.002891</td>\n",
       "      <td>-0.014089</td>\n",
       "      <td>-0.089486</td>\n",
       "      <td>-0.007736</td>\n",
       "      <td>-0.095076</td>\n",
       "      <td>-0.027023</td>\n",
       "      <td>1.235694</td>\n",
       "      <td>-0.011664</td>\n",
       "      <td>...</td>\n",
       "      <td>0.0</td>\n",
       "      <td>0.0</td>\n",
       "      <td>0.0</td>\n",
       "      <td>0.0</td>\n",
       "      <td>0.0</td>\n",
       "      <td>0.0</td>\n",
       "      <td>0.0</td>\n",
       "      <td>0.0</td>\n",
       "      <td>1.0</td>\n",
       "      <td>0.0</td>\n",
       "    </tr>\n",
       "    <tr>\n",
       "      <th>4</th>\n",
       "      <td>-0.110249</td>\n",
       "      <td>-0.007728</td>\n",
       "      <td>-0.004814</td>\n",
       "      <td>-0.014089</td>\n",
       "      <td>-0.089486</td>\n",
       "      <td>-0.007736</td>\n",
       "      <td>-0.095076</td>\n",
       "      <td>-0.027023</td>\n",
       "      <td>1.235694</td>\n",
       "      <td>-0.011664</td>\n",
       "      <td>...</td>\n",
       "      <td>0.0</td>\n",
       "      <td>0.0</td>\n",
       "      <td>0.0</td>\n",
       "      <td>0.0</td>\n",
       "      <td>0.0</td>\n",
       "      <td>0.0</td>\n",
       "      <td>0.0</td>\n",
       "      <td>0.0</td>\n",
       "      <td>1.0</td>\n",
       "      <td>0.0</td>\n",
       "    </tr>\n",
       "  </tbody>\n",
       "</table>\n",
       "<p>5 rows × 123 columns</p>\n",
       "</div>"
      ],
      "text/plain": [
       "        0         1         2         3         4         5         6    \\\n",
       "0 -0.110249 -0.007679 -0.004919 -0.014089 -0.089486 -0.007736 -0.095076   \n",
       "1 -0.110249 -0.007737 -0.004919 -0.014089 -0.089486 -0.007736 -0.095076   \n",
       "2 -0.110249 -0.007762 -0.004919 -0.014089 -0.089486 -0.007736 -0.095076   \n",
       "3 -0.110249 -0.007723 -0.002891 -0.014089 -0.089486 -0.007736 -0.095076   \n",
       "4 -0.110249 -0.007728 -0.004814 -0.014089 -0.089486 -0.007736 -0.095076   \n",
       "\n",
       "        7         8         9    ...  113  114  115  116  117  118  119  120  \\\n",
       "0 -0.027023 -0.809262 -0.011664  ...  0.0  0.0  0.0  0.0  0.0  0.0  0.0  0.0   \n",
       "1 -0.027023 -0.809262 -0.011664  ...  0.0  0.0  0.0  0.0  0.0  0.0  0.0  0.0   \n",
       "2 -0.027023 -0.809262 -0.011664  ...  0.0  0.0  0.0  0.0  1.0  0.0  0.0  0.0   \n",
       "3 -0.027023  1.235694 -0.011664  ...  0.0  0.0  0.0  0.0  0.0  0.0  0.0  0.0   \n",
       "4 -0.027023  1.235694 -0.011664  ...  0.0  0.0  0.0  0.0  0.0  0.0  0.0  0.0   \n",
       "\n",
       "   121  122  \n",
       "0  1.0  0.0  \n",
       "1  1.0  0.0  \n",
       "2  0.0  0.0  \n",
       "3  1.0  0.0  \n",
       "4  1.0  0.0  \n",
       "\n",
       "[5 rows x 123 columns]"
      ]
     },
     "execution_count": 20,
     "metadata": {},
     "output_type": "execute_result"
    }
   ],
   "source": [
    "X_transformed = pd.DataFrame(data=preprocessor.fit_transform(X))\n",
    "X_transformed.head()"
   ]
  },
  {
   "cell_type": "markdown",
   "metadata": {},
   "source": [
    "## Machine Learning\n",
    "- crear y entrenar algoritmos\n",
    "- predicciones (a.k.a. análisis de eventos en busca de posibles ataques)."
   ]
  },
  {
   "cell_type": "markdown",
   "metadata": {},
   "source": [
    "## Selección del modelo\n",
    "Utilizo *pipelines* para automatizar el preprocesado de datos con el *ColumnEncoder* que he creado en el paso anterior."
   ]
  },
  {
   "cell_type": "code",
   "execution_count": 21,
   "metadata": {},
   "outputs": [],
   "source": [
    "ml_model = LGBMClassifier()\n",
    "\n",
    "model = Pipeline(steps=[('preprocessor', preprocessor),\n",
    "                        ('ml_classifier', ml_model)])"
   ]
  },
  {
   "cell_type": "markdown",
   "metadata": {},
   "source": [
    "## Validación cruzada\n",
    "Para valorar de forma más precisa cómo de bien se comportan las predicciones del modelo."
   ]
  },
  {
   "cell_type": "markdown",
   "metadata": {},
   "source": [
    "```python\n",
    "scores = cross_val_score(model, \n",
    "                         X, \n",
    "                         y_normalized, \n",
    "                         scoring='accuracy', \n",
    "                         cv=10, \n",
    "                         n_jobs=-1)\n",
    "```"
   ]
  },
  {
   "cell_type": "markdown",
   "metadata": {},
   "source": [
    "```python\n",
    "print(f\"La media de la validación es: {round(np.mean(scores), 2)}\")\n",
    "```"
   ]
  },
  {
   "cell_type": "markdown",
   "metadata": {},
   "source": [
    "**Nota**: este apartado lo he dejado como muestra de utilzación de la validación cruzada. Realmente en el siguiente paso hago optimización de hiperparámetros usando *RandomizedSearchCV* y, por tanto, la validación cruzada queda cubierta."
   ]
  },
  {
   "cell_type": "markdown",
   "metadata": {},
   "source": [
    "## Optimización de hiperparámetros\n",
    "Utilizo *RandomizedSearchCV* para probar el modelo con distintas combinaciones de hiperparámetros.\n",
    "\n",
    "**Nota**: el código de esta parte está desactivado para evitar lanzarlo por error, ya que tardó varias horas en terminar.\n",
    "\n",
    "### Optimización usando *accuracy* como métrica:"
   ]
  },
  {
   "cell_type": "markdown",
   "metadata": {},
   "source": [
    "```python\n",
    "param_grid = {\n",
    "    'ml_classifier__n_estimators': [16, 32, 64, 128, 256, 512],\n",
    "    'ml_classifier__boosting_type': ['gbdt', 'dart', 'goss', 'rf'],\n",
    "    'ml_classifier__num_leaves': [4, 8, 16, 31, 64, 70, 80],\n",
    "}\n",
    "\n",
    "grid_search = RandomizedSearchCV(model, \n",
    "                                 param_grid, \n",
    "                                 cv=5, \n",
    "                                 verbose=10, \n",
    "                                 scoring='accuracy', \n",
    "                                 n_jobs=-1,\n",
    "                                 n_iter=32)\n",
    "\n",
    "grid_search.fit(X, y)\n",
    "```"
   ]
  },
  {
   "cell_type": "markdown",
   "metadata": {},
   "source": [
    "### Optimización usando *AUC ROC* como métrica:"
   ]
  },
  {
   "cell_type": "markdown",
   "metadata": {},
   "source": [
    "```python\n",
    "from sklearn.model_selection import StratifiedKFold\n",
    "\n",
    "param_grid = {\n",
    "    'ml_classifier__n_estimators': [16, 32, 64, 128, 256, 512],\n",
    "    'ml_classifier__boosting_type': ['gbdt', 'dart', 'goss'],\n",
    "    'ml_classifier__num_leaves': [4, 8, 16, 31, 64, 70, 80],\n",
    "}\n",
    "\n",
    "grid_search = RandomizedSearchCV(model, \n",
    "                                 param_grid, \n",
    "                                 cv=StratifiedKFold(n_splits=2),\n",
    "                                 verbose=10, \n",
    "                                 scoring='roc_auc_ovr_weighted', \n",
    "                                 n_jobs=-1,\n",
    "                                 n_iter=32)\n",
    "\n",
    "grid_search.fit(X, y)\n",
    "```"
   ]
  },
  {
   "cell_type": "markdown",
   "metadata": {},
   "source": [
    "### ¿Cuales son los parámetros que dan mejor resultado?"
   ]
  },
  {
   "cell_type": "markdown",
   "metadata": {},
   "source": [
    "```python\n",
    "grid_search.best_params_\n",
    "```"
   ]
  },
  {
   "cell_type": "markdown",
   "metadata": {},
   "source": [
    "Los parámetros con los que se consigue mejores resultados para **accuracy** son estos:\n",
    "- 'num_leaves': 70,\n",
    "- 'n_estimators': 16,\n",
    "- 'boosting_type': 'goss'\n",
    "\n",
    "Los parámetros con los que se consigue mejores resultados para **roc auc one-vs-rest (weighted)** son estos:\n",
    "- 'num_leaves': 64,\n",
    "- 'n_estimators': 16,\n",
    "- 'boosting_type': 'dart'\n",
    "\n",
    "## Predicción\n",
    "Ahora hay que usar el modelo con los datos de test y los parámetros optimizados para ver como se comporta."
   ]
  },
  {
   "cell_type": "markdown",
   "metadata": {},
   "source": [
    "```python\n",
    "test_file = \"data/KDDTest+.txt\"\n",
    "test_df = pd.read_csv(large_training_file, header=None)\n",
    "\n",
    "# Le pongo las mismas columnas que el dataframe de entrenamiento\n",
    "test_df.columns = df.columns\n",
    "\n",
    "# Separo las labels del target\n",
    "X_test = test_df[col_names].drop(target, axis=1)\n",
    "y_test = test_df[target]\n",
    "```"
   ]
  },
  {
   "cell_type": "markdown",
   "metadata": {},
   "source": [
    "```python\n",
    "# Predicción usando el modelo ya entrenado con RandomizedSearchCV\n",
    "y_predict = grid_search.predict(X_test)\n",
    "```"
   ]
  },
  {
   "cell_type": "markdown",
   "metadata": {},
   "source": [
    "```python\n",
    "# Y vemos el resultado de la predicción con los datos de test\n",
    "scores = precision_score(y_test, \n",
    "                y_predict, \n",
    "                average=\"micro\")\n",
    "\n",
    "# Nota:\n",
    "# El parámetro \"average\" es necesario para evaluar la precisión con un problema de clasificación multiclase. Ver la documentación:\n",
    "# https://scikit-learn.org/stable/modules/generated/sklearn.metrics.precision_score.html\n",
    "\n",
    "print(f\"La media con los datos de test es: {round(np.mean(scores), 2)}\")\n",
    "```"
   ]
  },
  {
   "cell_type": "markdown",
   "metadata": {},
   "source": [
    "### Resultado\n",
    "La media de acuracy con los datos de validación tras la optimización de hiperparámetros es **sorprendetemente buena**: 0.94"
   ]
  },
  {
   "cell_type": "markdown",
   "metadata": {},
   "source": [
    "## Entrenamiento\n",
    "Una vez he analizado varios modelos entreno el que ha dado mejores resultados usando todos los datos del dataset.\n",
    "\n",
    "También he aplicado los hiperparámetros que he sacado en el paso anterior."
   ]
  },
  {
   "cell_type": "code",
   "execution_count": 22,
   "metadata": {},
   "outputs": [],
   "source": [
    "ml_model = LGBMClassifier(num_leaves=70,\n",
    "                          n_estimators=16,\n",
    "                          boosting_type='goss')\n",
    "\n",
    "model = Pipeline(steps=[('preprocessor', preprocessor),\n",
    "                        ('ml_classifier', ml_model)])"
   ]
  },
  {
   "cell_type": "code",
   "execution_count": 23,
   "metadata": {},
   "outputs": [
    {
     "data": {
      "text/plain": [
       "Pipeline(steps=[('preprocessor',\n",
       "                 ColumnTransformer(transformers=[('numerical', StandardScaler(),\n",
       "                                                  ['duration', 'src_bytes',\n",
       "                                                   'dst_bytes', 'land',\n",
       "                                                   'wrong_fragment', 'urgent',\n",
       "                                                   'hot', 'num_failed_logins',\n",
       "                                                   'logged_in',\n",
       "                                                   'num_compromised',\n",
       "                                                   'root_shell', 'su_attempted',\n",
       "                                                   'num_root',\n",
       "                                                   'num_file_creations',\n",
       "                                                   'num_shells',\n",
       "                                                   'num_access_files',\n",
       "                                                   'num_outbound_cmds',\n",
       "                                                   'is_host_login',\n",
       "                                                   'is...\n",
       "                                                   'srv_count', 'serror_rate',\n",
       "                                                   'srv_serror_rate',\n",
       "                                                   'rerror_rate',\n",
       "                                                   'srv_rerror_rate',\n",
       "                                                   'same_srv_rate',\n",
       "                                                   'diff_srv_rate',\n",
       "                                                   'srv_diff_host_rate',\n",
       "                                                   'dst_host_count',\n",
       "                                                   'dst_host_srv_count', ...]),\n",
       "                                                 ('categorical',\n",
       "                                                  OneHotEncoder(handle_unknown='ignore'),\n",
       "                                                  ['protocol_type', 'service',\n",
       "                                                   'flag'])])),\n",
       "                ('ml_classifier',\n",
       "                 LGBMClassifier(boosting_type='goss', n_estimators=16,\n",
       "                                num_leaves=70))])"
      ]
     },
     "execution_count": 23,
     "metadata": {},
     "output_type": "execute_result"
    }
   ],
   "source": [
    "model.fit(X, y)"
   ]
  },
  {
   "cell_type": "markdown",
   "metadata": {},
   "source": [
    "## Predicción\n",
    "Paso los datos de test por el modelo y compruebo los resultados."
   ]
  },
  {
   "cell_type": "code",
   "execution_count": 24,
   "metadata": {},
   "outputs": [],
   "source": [
    "test_file = \"data/KDDTest+.txt\"\n",
    "test_df = pd.read_csv(large_training_file, header=None)\n",
    "\n",
    "# Le pongo las mismas columnas que el dataframe de entrenamiento\n",
    "test_df.columns = df.columns\n",
    "\n",
    "# Separo las labels del target\n",
    "X_test = test_df[col_names].drop(target, axis=1)\n",
    "y_test = test_df[target]"
   ]
  },
  {
   "cell_type": "code",
   "execution_count": 25,
   "metadata": {},
   "outputs": [],
   "source": [
    "# Predicción usando el modelo ya entrenado en el paso anterior\n",
    "y_predict = model.predict(X_test)"
   ]
  },
  {
   "cell_type": "code",
   "execution_count": 26,
   "metadata": {},
   "outputs": [
    {
     "name": "stdout",
     "output_type": "stream",
     "text": [
      "La media con los datos de test es: 0.94\n"
     ]
    }
   ],
   "source": [
    "# Y vemos el resultado de la predicción con los datos de test\n",
    "scores = precision_score(y_test, \n",
    "                y_predict, \n",
    "                average=\"micro\")\n",
    "\n",
    "# Nota:\n",
    "# El parámetro \"average\" es necesario para evaluar la precisión con un problema de clasificación multiclase. Ver la documentación:\n",
    "# https://scikit-learn.org/stable/modules/generated/sklearn.metrics.precision_score.html\n",
    "\n",
    "print(f\"La media con los datos de test es: {round(np.mean(scores), 2)}\")"
   ]
  },
  {
   "cell_type": "markdown",
   "metadata": {},
   "source": [
    "La media de accuracy con los datos de test y los parámetros por defecto es: 0.69\n",
    "    \n",
    "La media de accuracy con los datos de test y los parámetros que ha devuelto la optimización con RandomizedSearchCV: 0.94"
   ]
  },
  {
   "cell_type": "markdown",
   "metadata": {},
   "source": [
    "# [TO-DO] Probar otro método de evaluación\n",
    "\n",
    "* Sugerencia de David: AUC one vs All (una etiqueta contra el resto)\n",
    "\n",
    "https://scikit-learn.org/stable/auto_examples/model_selection/plot_roc.html#plot-roc-curves-for-the-multilabel-problem\n",
    "\n",
    "Ten en cuenta: micro-avg roc vs macro-avg roc (macro computa la métrica independiente de cada clase; El micro agrega todo de todas las clases y hace una media -en ese sentido tendría la clase que tiene más pondera el número de observaciones por cada clase-).\n",
    "\n",
    "-----\n",
    "+ hacer una matriz de confusión\n",
    "\n",
    "-----\n",
    "\n",
    "Calcular el AUC y curva ROC.\n",
    "\n",
    "Ver la curva ROC de cada clase (del TARGET) y AUC.\n",
    "Ver tasa de falsos positivos vs falsos negativos.\n",
    "\n",
    "Par un proyecto real, estos temas son muy importantes: \n",
    "¿voy a tener muchos falsos positivos y voy a tirar clientes potenciales? ¿me merece la pena correr ese riesgo? (es la lucha entre seguridad vs usabilidad, al final).\n",
    "\n",
    "\n",
    "Cosas para true positive, false negative, roc, etc. ver estos tutoriales:\n",
    "\n",
    "https://www.youtube.com/watch?v=TmhzUdPpVPQ\n",
    "\n",
    "https://www.youtube.com/watch?v=ZlGz9Nl5irs\n",
    "\n",
    "https://scikit-learn.org/stable/auto_examples/model_selection/plot_roc.html\n",
    "\n",
    "https://www.kaggle.com/maria591/lightgbm\n",
    "\n",
    "https://machinelearningmastery.com/roc-curves-and-precision-recall-curves-for-classification-in-python/"
   ]
  },
  {
   "cell_type": "markdown",
   "metadata": {},
   "source": [
    "# Área Bajo la Curva ROC\n",
    "Como método de evaluación de los resultados del algoritmo utilizo ROC AUC.\n",
    "\n",
    "Al tratarse de un problema de clasificación multiclase voy a usar estos dos métodos de comparación:\n",
    "- OVO (One-vs-One) calcula el AUC promedio de las posibles combinación de clases.\n",
    "- OVR (One-vs-Rest) compara el AUC de cada clase contra el resto.\n",
    "\n",
    "## Modelo con hiperparámetros por defecto"
   ]
  },
  {
   "cell_type": "code",
   "execution_count": 27,
   "metadata": {},
   "outputs": [],
   "source": [
    "ml_model = LGBMClassifier()\n",
    "\n",
    "model = Pipeline(steps=[('preprocessor', preprocessor),\n",
    "                        ('ml_classifier', ml_model)])\n",
    "\n",
    "model.fit(X, y)\n",
    "\n",
    "y_prob = model.predict_proba(X_test)"
   ]
  },
  {
   "cell_type": "code",
   "execution_count": 28,
   "metadata": {},
   "outputs": [
    {
     "name": "stdout",
     "output_type": "stream",
     "text": [
      "One-vs-One ROC AUC scores:\n",
      "0.52 (macro)\n",
      "0.6 (weighted by prevalence)\n",
      "\n",
      "\n",
      "One-vs-Rest ROC AUC scores:\n",
      "0.53 (macro)\n",
      "0.78 (weighted by prevalence)\n"
     ]
    }
   ],
   "source": [
    "macro_roc_auc_ovo = roc_auc_score(y_test, y_prob, multi_class=\"ovo\", average=\"macro\")\n",
    "\n",
    "weighted_roc_auc_ovo = roc_auc_score(y_test, y_prob, multi_class=\"ovo\", average=\"weighted\")\n",
    "\n",
    "macro_roc_auc_ovr = roc_auc_score(y_test,y_prob, multi_class=\"ovr\",average=\"macro\")\n",
    "\n",
    "weighted_roc_auc_ovr = roc_auc_score(y_test, y_prob, multi_class=\"ovr\", average=\"weighted\")\n",
    "\n",
    "print(f\"One-vs-One ROC AUC scores:\\n{round(macro_roc_auc_ovo, 2)} (macro)\\n{round(weighted_roc_auc_ovo, 2)} (weighted by prevalence)\")\n",
    "\n",
    "print(\"\\n\")\n",
    "\n",
    "print(f\"One-vs-Rest ROC AUC scores:\\n{round(macro_roc_auc_ovr, 2)} (macro)\\n{round(weighted_roc_auc_ovr, 2)} (weighted by prevalence)\")\n"
   ]
  },
  {
   "cell_type": "markdown",
   "metadata": {},
   "source": [
    "## Modelo con hiperparámetros optimizados"
   ]
  },
  {
   "cell_type": "code",
   "execution_count": 29,
   "metadata": {},
   "outputs": [],
   "source": [
    "ml_model = LGBMClassifier(num_leaves=64,\n",
    "                          n_estimators=16,\n",
    "                          boosting_type='dart')\n",
    "\n",
    "model = Pipeline(steps=[('preprocessor', preprocessor),\n",
    "                        ('ml_classifier', ml_model)])\n",
    "\n",
    "model.fit(X, y)\n",
    "\n",
    "y_prob = model.predict_proba(X_test)"
   ]
  },
  {
   "cell_type": "code",
   "execution_count": 30,
   "metadata": {},
   "outputs": [
    {
     "name": "stdout",
     "output_type": "stream",
     "text": [
      "One-vs-One ROC AUC scores:\n",
      "0.56 (macro)\n",
      "0.63 (weighted by prevalence)\n",
      "\n",
      "\n",
      "One-vs-Rest ROC AUC scores:\n",
      "0.35 (macro)\n",
      "0.93 (weighted by prevalence)\n"
     ]
    }
   ],
   "source": [
    "macro_roc_auc_ovo = roc_auc_score(y_test, y_prob, multi_class=\"ovo\", average=\"macro\")\n",
    "\n",
    "weighted_roc_auc_ovo = roc_auc_score(y_test, y_prob, multi_class=\"ovo\", average=\"weighted\")\n",
    "\n",
    "macro_roc_auc_ovr = roc_auc_score(y_test,y_prob, multi_class=\"ovr\",average=\"macro\")\n",
    "\n",
    "weighted_roc_auc_ovr = roc_auc_score(y_test, y_prob, multi_class=\"ovr\", average=\"weighted\")\n",
    "\n",
    "print(f\"One-vs-One ROC AUC scores:\\n{round(macro_roc_auc_ovo, 2)} (macro)\\n{round(weighted_roc_auc_ovo, 2)} (weighted by prevalence)\")\n",
    "\n",
    "print(\"\\n\")\n",
    "\n",
    "print(f\"One-vs-Rest ROC AUC scores:\\n{round(macro_roc_auc_ovr, 2)} (macro)\\n{round(weighted_roc_auc_ovr, 2)} (weighted by prevalence)\")\n"
   ]
  }
 ],
 "metadata": {
  "kernelspec": {
   "display_name": "Python [conda env:ironhack_env]",
   "language": "python",
   "name": "conda-env-ironhack_env-py"
  },
  "language_info": {
   "codemirror_mode": {
    "name": "ipython",
    "version": 3
   },
   "file_extension": ".py",
   "mimetype": "text/x-python",
   "name": "python",
   "nbconvert_exporter": "python",
   "pygments_lexer": "ipython3",
   "version": "3.8.5"
  }
 },
 "nbformat": 4,
 "nbformat_minor": 4
}
